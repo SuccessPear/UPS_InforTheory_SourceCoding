{
 "cells": [
  {
   "cell_type": "markdown",
   "metadata": {},
   "source": [
    "## 1. Encoder"
   ]
  },
  {
   "cell_type": "code",
   "execution_count": 23,
   "metadata": {},
   "outputs": [],
   "source": [
    "def LZ_encoder(x, alphabet):\n",
    "    \"\"\"Lempel-Ziv coding\n",
    "\n",
    "    Args:\n",
    "        x (string): message\n",
    "        alphabet (array): List of character used in message\n",
    "\n",
    "    Returns:\n",
    "        c: encoded message\n",
    "    \"\"\"\n",
    "    \n",
    "    dictionary = {}\n",
    "    for i in range(len(alphabet)):\n",
    "        dictionary[alphabet[i]] = str(i)\n",
    "    w = \"\"\n",
    "    c = []\n",
    "    idx = len(alphabet)\n",
    "    for a in x:\n",
    "        if w+a in dictionary:\n",
    "            w = w + a\n",
    "        else:\n",
    "            c.append(dictionary[w])\n",
    "            dictionary[w+a] = str(idx)\n",
    "            idx += 1\n",
    "            w = a\n",
    "    c.append(dictionary[w])\n",
    "    return c"
   ]
  },
  {
   "cell_type": "code",
   "execution_count": 24,
   "metadata": {},
   "outputs": [
    {
     "name": "stdout",
     "output_type": "stream",
     "text": [
      "['0', '2', '1', '0', '4', '2', '5', '6', '3']\n"
     ]
    }
   ],
   "source": [
    "alphabet = [\"0\", \"1\"]\n",
    "x = \"00010100001100001\"\n",
    "print(LZ_encoder(x, alphabet))"
   ]
  },
  {
   "cell_type": "markdown",
   "metadata": {},
   "source": [
    "## 2. Decoder"
   ]
  },
  {
   "cell_type": "code",
   "execution_count": 28,
   "metadata": {},
   "outputs": [],
   "source": [
    "def LZ_decoder(c, alphabet):\n",
    "    \"\"\"_summary_\n",
    "\n",
    "    Args:\n",
    "        c (_type_): _description_\n",
    "        alphabet (_type_): _description_\n",
    "\n",
    "    Returns:\n",
    "        _type_: _description_\n",
    "    \"\"\"\n",
    "    \n",
    "    x = \"\"\n",
    "    dictionary = {}\n",
    "    for i in range(len(alphabet)):\n",
    "        dictionary[str(i)] = alphabet[i]\n",
    "    idx = len(alphabet)\n",
    "    k = c[0]\n",
    "    d = dictionary[k]\n",
    "    x = x + d\n",
    "    \n",
    "    for k in c[1:]:\n",
    "        if int(k) == len(dictionary):\n",
    "            x = x + d + d[0]\n",
    "            d = d + d[0]\n",
    "            dictionary[str(idx)] = d\n",
    "            idx += 1\n",
    "        else:\n",
    "            x = x + dictionary[k]\n",
    "            dictionary[str(idx)] = d + dictionary[k][0]\n",
    "            idx += 1\n",
    "            d = dictionary[k]\n",
    "    \n",
    "    return x"
   ]
  },
  {
   "cell_type": "code",
   "execution_count": 30,
   "metadata": {},
   "outputs": [
    {
     "name": "stdout",
     "output_type": "stream",
     "text": [
      "Original message: 00010100001100001\n",
      "Encoded message: ['0', '2', '1', '0', '4', '2', '5', '6', '3']\n",
      "Decoded message:  00010100001100001\n"
     ]
    }
   ],
   "source": [
    "alphabet = [\"0\", \"1\"]\n",
    "x = \"00010100001100001\"\n",
    "print(f\"Original message: {x}\")\n",
    "encoded_message = LZ_encoder(x, alphabet)\n",
    "print(f\"Encoded message: {encoded_message}\")\n",
    "\n",
    "decoded_message = LZ_decoder(encoded_message, alphabet)\n",
    "print(f\"Decoded message:  {decoded_message}\")"
   ]
  }
 ],
 "metadata": {
  "kernelspec": {
   "display_name": "M1Project",
   "language": "python",
   "name": "python3"
  },
  "language_info": {
   "codemirror_mode": {
    "name": "ipython",
    "version": 3
   },
   "file_extension": ".py",
   "mimetype": "text/x-python",
   "name": "python",
   "nbconvert_exporter": "python",
   "pygments_lexer": "ipython3",
   "version": "3.12.9"
  }
 },
 "nbformat": 4,
 "nbformat_minor": 2
}
