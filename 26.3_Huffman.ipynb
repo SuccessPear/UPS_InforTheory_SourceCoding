{
 "cells": [
  {
   "cell_type": "markdown",
   "metadata": {},
   "source": [
    "## Exercise 1: Implement huffman coding\n",
    "Input: probabilities\n",
    "\n",
    "Output: code"
   ]
  },
  {
   "cell_type": "code",
   "execution_count": 36,
   "metadata": {},
   "outputs": [
    {
     "name": "stdout",
     "output_type": "stream",
     "text": [
      "['00' '010' '011' '10' '11']\n"
     ]
    }
   ],
   "source": [
    "import numpy as np\n",
    "\n",
    "def huffman_encoding(probs: np.ndarray) ->np.ndarray:\n",
    "    if len(probs) == 1:\n",
    "        return [\"0\"]\n",
    "    if len(probs) == 2:\n",
    "        return [\"0\", \"1\"]\n",
    "    \n",
    "    idx = np.argpartition(probs, 1) # Get the idx of 2 smallest probs\n",
    "    \n",
    "    a, b = [idx[0], idx[1]] if [idx[0] < idx[1]] else [idx[1], idx[0]]\n",
    "    \n",
    "    probs[a] += probs[b]\n",
    "    probs = np.delete(probs, b)\n",
    "    \n",
    "    code = np.array(huffman_encoding(probs), dtype='object')\n",
    "    code = np.insert(code, b, code[a]+\"1\")\n",
    "    code[a] = code[a]+\"0\"\n",
    "    return code\n",
    "\n",
    "codes = huffman_encoding([0.3, 0.1, 0.2, 0.2, 0.2])\n",
    "print(codes)\n",
    "    "
   ]
  }
 ],
 "metadata": {
  "kernelspec": {
   "display_name": "Face-mask-detection-env",
   "language": "python",
   "name": "python3"
  },
  "language_info": {
   "codemirror_mode": {
    "name": "ipython",
    "version": 3
   },
   "file_extension": ".py",
   "mimetype": "text/x-python",
   "name": "python",
   "nbconvert_exporter": "python",
   "pygments_lexer": "ipython3",
   "version": "3.11.11"
  }
 },
 "nbformat": 4,
 "nbformat_minor": 2
}
