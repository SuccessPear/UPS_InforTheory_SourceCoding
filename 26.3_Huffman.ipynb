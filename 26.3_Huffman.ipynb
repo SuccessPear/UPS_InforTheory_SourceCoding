{
 "cells": [
  {
   "cell_type": "markdown",
   "metadata": {},
   "source": [
    "## Exercise 1: Implement huffman coding\n",
    "Input: probabilities\n",
    "\n",
    "Output: code"
   ]
  },
  {
   "cell_type": "code",
   "execution_count": null,
   "metadata": {},
   "outputs": [
    {
     "name": "stdout",
     "output_type": "stream",
     "text": [
      "['00', '010', '011', '10', '11']\n"
     ]
    }
   ],
   "source": [
    "import numpy as np\n",
    "\n",
    "def huffman_encoding(probs: np.ndarray):\n",
    "    if len(probs) == 1:\n",
    "        return [\"0\"]\n",
    "    if len(probs) == 2:\n",
    "        return [\"0\", \"1\"]\n",
    "    \n",
    "    idx = np.argpartition(probs, 1) # Get the idx of 2 smallest probs\n",
    "    \n",
    "    if (idx[0]<idx[1]):\n",
    "        a = idx[0]\n",
    "        b = idx[1]\n",
    "    else:\n",
    "        a = idx[1]\n",
    "        b = idx[0]\n",
    "    \n",
    "    probs[a] += probs[b]\n",
    "    probs = np.delete(probs, b)\n",
    "    \n",
    "    code = huffman_encoding(probs)\n",
    "    try:\n",
    "        tmp = code[a]+\"1\"\n",
    "    except:\n",
    "        print(a)\n",
    "        print(b)\n",
    "        print(probs)\n",
    "        print(code)\n",
    "    code.insert(b, tmp)\n",
    "    code[a] = code[a]+\"0\"\n",
    "    return code\n",
    "\n",
    "codes = huffman_encoding([0.3, 0.1, 0.2, 0.2, 0.2])\n",
    "print(codes)\n",
    "    "
   ]
  },
  {
   "cell_type": "markdown",
   "metadata": {},
   "source": [
    "For the declaration1789 file"
   ]
  },
  {
   "cell_type": "code",
   "execution_count": 38,
   "metadata": {},
   "outputs": [],
   "source": [
    "file = open(\"Declaration1789.txt\", 'r', encoding='latin-1')\n",
    "data = file.read()\n"
   ]
  },
  {
   "cell_type": "code",
   "execution_count": 58,
   "metadata": {},
   "outputs": [
    {
     "name": "stdout",
     "output_type": "stream",
     "text": [
      "57\n",
      "[0.009236947791164659, 0.0026104417670682733, 0.05140562248995984, 0.00040160642570281126, 0.04879518072289157, 0.00020080321285140563, 0.0006024096385542169, 0.0285140562248996, 0.058634538152610445, 0.0030120481927710845, 0.003815261044176707, 0.00783132530120482, 0.00040160642570281126, 0.01325301204819277, 0.004216867469879518, 0.00040160642570281126, 0.001004016064257028, 0.004216867469879518, 0.00040160642570281126, 0.11224899598393574, 0.0012048192771084338, 0.06465863453815261, 0.0006024096385542169, 0.04678714859437751, 0.05582329317269076, 0.004417670682730923, 0.00040160642570281126, 0.003815261044176707, 0.0018072289156626507, 0.1672690763052209, 0.028313253012048192, 0.00040160642570281126, 0.002811244979919679, 0.00020080321285140563, 0.04477911646586345, 0.007429718875502008, 0.00020080321285140563, 0.00020080321285140563, 0.0006024096385542169, 0.00020080321285140563, 0.0006024096385542169, 0.026305220883534135, 0.005622489959839358, 0.003815261044176707, 0.00020080321285140563, 0.024497991967871485, 0.00020080321285140563, 0.002008032128514056, 0.00040160642570281126, 0.01927710843373494, 0.008835341365461847, 0.00040160642570281126, 0.0014056224899598394, 0.00020080321285140563, 0.06987951807228916, 0.00963855421686747, 0.04357429718875502]\n"
     ]
    }
   ],
   "source": [
    "character_set = set(data)\n",
    "print(len(character_set))\n",
    "\n",
    "# Get the probabilities of each characters in the file\n",
    "probs = []\n",
    "for i in character_set:\n",
    "    char_count = data.count(i)\n",
    "    probs.append(char_count/len(data))\n",
    "print(probs)"
   ]
  },
  {
   "cell_type": "code",
   "execution_count": 83,
   "metadata": {},
   "outputs": [
    {
     "name": "stdout",
     "output_type": "stream",
     "text": [
      "['0000000', '000010000', '1000', '10010000000', '1010', '100100000010', '00001001000', '01000', '0101', '10010001', '01001000', '0100110', '10010000010', '100101', '00000100', '10010000011', '0000100101', '00000110', '01001001000', '110', '0000100110', '0110', '00001001001', '1011', '1110', '00000111', '01001001001', '01001110', '010011110', '001', '11110', '01001001010', '000010001', '100100000011', '00010', '0100101', '010010010110', '010010010111', '00001001110', '010010011000', '00001001111', '11111', '1001001', '00000101', '010010011001', '10011', '010010011010', '010011111', '01001001110', '000011', '0000001', '01001001111', '100100001', '010010011011', '0111', '0000101', '00011']\n"
     ]
    }
   ],
   "source": [
    "codes = huffman_encoding(np.array(probs))\n",
    "print(codes)"
   ]
  }
 ],
 "metadata": {
  "kernelspec": {
   "display_name": "Face-mask-detection-env",
   "language": "python",
   "name": "python3"
  },
  "language_info": {
   "codemirror_mode": {
    "name": "ipython",
    "version": 3
   },
   "file_extension": ".py",
   "mimetype": "text/x-python",
   "name": "python",
   "nbconvert_exporter": "python",
   "pygments_lexer": "ipython3",
   "version": "3.11.11"
  }
 },
 "nbformat": 4,
 "nbformat_minor": 2
}
