{
 "cells": [
  {
   "cell_type": "markdown",
   "metadata": {},
   "source": [
    "# Arithmetic coding\n",
    "In this file, we will implement the vanilla Arithmetic coding and its variants, such as:\n",
    "- Finite-accuracy  arithmetic coding\n",
    "- Adaptive arithmetic coder"
   ]
  },
  {
   "cell_type": "markdown",
   "metadata": {},
   "source": [
    "## 1. Vanilla arithmetic\n",
    "### 1.1. Encoder"
   ]
  },
  {
   "cell_type": "code",
   "execution_count": 23,
   "metadata": {},
   "outputs": [],
   "source": [
    "def get_n_first_binary(x, n):\n",
    "    \"\"\"Convert number from decimal to binary\n",
    "\n",
    "    Args:\n",
    "        x (float): number from 0 to 1\n",
    "        n (_type_): number of bits\n",
    "\n",
    "    Returns:\n",
    "        result: _description_\n",
    "    \"\"\"\n",
    "    result = []\n",
    "    cmp = 0.5\n",
    "    for i in range(n):\n",
    "        if x >= cmp:\n",
    "            result.append(\"1\")\n",
    "            x -= cmp\n",
    "        else:\n",
    "            result.append(\"0\")\n",
    "        cmp = cmp/2\n",
    "    return result"
   ]
  },
  {
   "cell_type": "code",
   "execution_count": 34,
   "metadata": {},
   "outputs": [],
   "source": [
    "import math\n",
    "def arith_encoder(x, p0, verbose=False):\n",
    "    \"\"\"_summary_\n",
    "    arithmetic encoder\n",
    "    Args:\n",
    "        x (array): message\n",
    "        p0 (float): probability of 0 in the binary message\n",
    "        verbose (binary): print some description\n",
    "    Return:\n",
    "        encoded message\n",
    "    \"\"\"\n",
    "    if verbose:\n",
    "        print(\"-----------Start encoding----------\")\n",
    "    l, h = 0, 1\n",
    "    for i in range(len(x)):\n",
    "        if x[i] == '0':\n",
    "            h = l + p0*(h-l)\n",
    "            if verbose:\n",
    "                print(f\"Index {i}: update h = l + p0*(h-l) = {h}\")\n",
    "        else:\n",
    "            l = l + p0*(h-l)\n",
    "            if verbose:\n",
    "                print(f\"Index {i}: update l = l + p0*(h-l) = {l}\")\n",
    "    mn = (h+l)/2\n",
    "    if verbose:\n",
    "        print(f\"Done looping. Calculate the mid point mn = {mn}\")\n",
    "    lamda = math.ceil(-math.log2(h-l)) + 1\n",
    "    if verbose:\n",
    "        print(f\"Number of bit to truncate: {lamda}\")\n",
    "    code = get_n_first_binary(mn, lamda)\n",
    "    if verbose:\n",
    "        print(\"Done!!!\")\n",
    "    return code\n",
    "    "
   ]
  },
  {
   "cell_type": "markdown",
   "metadata": {},
   "source": [
    "## 1.2. Decoder"
   ]
  },
  {
   "cell_type": "code",
   "execution_count": 35,
   "metadata": {},
   "outputs": [],
   "source": [
    "def arith_decoder(N, p0, C_message, verbose=False):\n",
    "    \"\"\"Arithmetic decoder\n",
    "\n",
    "    Args:\n",
    "        N (int): length of original message\n",
    "        p0 (float): [0, 1] probability of 0 in the original message\n",
    "        C_message (array): encoded message\n",
    "        verbose (binary): print some description\n",
    "    \"\"\"\n",
    "    if verbose:\n",
    "        print(\"-----------Start decoding----------\")\n",
    "    c = 0\n",
    "    for i in range(len(C_message)):\n",
    "        if C_message[i] == \"1\":\n",
    "            c += math.pow(2, -i-1)\n",
    "    if verbose:\n",
    "        print(f\"c = (0,C_message) = {c}\")\n",
    "        print(\"Initialize variable x, l = 0, h = 1\")\n",
    "    x = []\n",
    "    l, h = 0, 1\n",
    "    for i in range(N):\n",
    "        if c >= l and c <= l + p0*(h-l):\n",
    "            x.append(\"0\")\n",
    "            h = l + p0*(h-l)\n",
    "            if verbose:\n",
    "                print(f\"Step {i} c in range [l, l+p0*(h-l)], append 0, update h\")\n",
    "        else:\n",
    "            x.append(\"1\")\n",
    "            l = l + p0*(h-l)\n",
    "            if verbose:\n",
    "                print(f\"Step {i} c in range [l+p0*(h-l), h], append 1, update l\")\n",
    "    if verbose:\n",
    "        print(\"Done!!!\")\n",
    "    return x"
   ]
  },
  {
   "cell_type": "code",
   "execution_count": 36,
   "metadata": {},
   "outputs": [
    {
     "name": "stdout",
     "output_type": "stream",
     "text": [
      "Original message: 1001010110100\n",
      "-----------Start encoding----------\n",
      "Index 0: update l = l + p0*(h-l) = 0.4\n",
      "Index 1: update h = l + p0*(h-l) = 0.64\n",
      "Index 2: update h = l + p0*(h-l) = 0.496\n",
      "Index 3: update l = l + p0*(h-l) = 0.4384\n",
      "Index 4: update h = l + p0*(h-l) = 0.46144\n",
      "Index 5: update l = l + p0*(h-l) = 0.447616\n",
      "Index 6: update h = l + p0*(h-l) = 0.45314560000000004\n",
      "Index 7: update l = l + p0*(h-l) = 0.44982784000000003\n",
      "Index 8: update l = l + p0*(h-l) = 0.45115494400000006\n",
      "Index 9: update h = l + p0*(h-l) = 0.4519512064\n",
      "Index 10: update l = l + p0*(h-l) = 0.45147344896\n",
      "Index 11: update h = l + p0*(h-l) = 0.451664551936\n",
      "Index 12: update h = l + p0*(h-l) = 0.45154989015040004\n",
      "Done looping. Calculate the mid point mn = 0.45151166955520006\n",
      "Number of bit to truncate: 15\n",
      "Done!!!\n",
      "Encoded message: ['0', '1', '1', '1', '0', '0', '1', '1', '1', '0', '0', '1', '0', '1', '1']\n",
      "-----------Start decoding----------\n",
      "c = (0,C_message) = 0.451507568359375\n",
      "Initialize variable x, l = 0, h = 1\n",
      "Step 0 c in range [l+p0*(h-l), h], append 1, update l\n",
      "Step 1 c in range [l, l+p0*(h-l)], append 0, update h\n",
      "Step 2 c in range [l, l+p0*(h-l)], append 0, update h\n",
      "Step 3 c in range [l+p0*(h-l), h], append 1, update l\n",
      "Step 4 c in range [l, l+p0*(h-l)], append 0, update h\n",
      "Step 5 c in range [l+p0*(h-l), h], append 1, update l\n",
      "Step 6 c in range [l, l+p0*(h-l)], append 0, update h\n",
      "Step 7 c in range [l+p0*(h-l), h], append 1, update l\n",
      "Step 8 c in range [l+p0*(h-l), h], append 1, update l\n",
      "Step 9 c in range [l, l+p0*(h-l)], append 0, update h\n",
      "Step 10 c in range [l+p0*(h-l), h], append 1, update l\n",
      "Step 11 c in range [l, l+p0*(h-l)], append 0, update h\n",
      "Step 12 c in range [l, l+p0*(h-l)], append 0, update h\n",
      "Done!!!\n",
      "Decoded message: ['1', '0', '0', '1', '0', '1', '0', '1', '1', '0', '1', '0', '0']\n"
     ]
    }
   ],
   "source": [
    "message = \"1001010110100\"\n",
    "p0 = 0.4\n",
    "print(f\"Original message: {message}\")\n",
    "encoded_message = arith_encoder(message, p0, True)\n",
    "print(f\"Encoded message: {encoded_message}\")\n",
    "\n",
    "decoded_message = arith_decoder(len(message), p0, encoded_message, True)\n",
    "print(f\"Decoded message: {decoded_message}\")"
   ]
  },
  {
   "cell_type": "code",
   "execution_count": null,
   "metadata": {},
   "outputs": [],
   "source": []
  }
 ],
 "metadata": {
  "kernelspec": {
   "display_name": "Face-mask-detection-env",
   "language": "python",
   "name": "python3"
  },
  "language_info": {
   "codemirror_mode": {
    "name": "ipython",
    "version": 3
   },
   "file_extension": ".py",
   "mimetype": "text/x-python",
   "name": "python",
   "nbconvert_exporter": "python",
   "pygments_lexer": "ipython3",
   "version": "3.11.11"
  }
 },
 "nbformat": 4,
 "nbformat_minor": 2
}
