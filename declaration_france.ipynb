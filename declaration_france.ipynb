{
 "cells": [
  {
   "cell_type": "markdown",
   "metadata": {},
   "source": [
    "## Exercise 1: \n",
    "Evaluate the vector P for the text of the French declaration des droits de l'homme"
   ]
  },
  {
   "cell_type": "code",
   "execution_count": 39,
   "metadata": {},
   "outputs": [],
   "source": [
    "import numpy as np"
   ]
  },
  {
   "cell_type": "code",
   "execution_count": 30,
   "metadata": {},
   "outputs": [
    {
     "name": "stdout",
     "output_type": "stream",
     "text": [
      "[Préambule]\n",
      "\n",
      "Les représentants du Peuple français, constitués en Assemblée nationale, considérant que l'ignorance, l'oubli ou le mépris des droits de l'homme sont les seules causes des malheurs publics et de la corruption des gouvernements, ont résolu d'exposer, dans une déclaration solennelle, les droits naturels, inaliénables et sacrés de l'homme, afin que cette déclaration, constamment présente à tous les membres du corps social, leur rappelle sans cesse leurs droits et leurs devoirs ; afin que les actes du pouvoir législatif et ceux du pouvoir exécutif, pouvant être à chaque instant comparés avec le but de toute institution politique, en soient plus respectés ; afin que les réclamations des citoyens, fondées désormais sur des principes simples et incontestables, tournent toujours au maintien de la constitution et au bonheur de tous.\n",
      "En conséquence, l'Assemblée nationale reconnaît et déclare, en présence et sous les auspices de l'Etre suprême, les droits suivants de l'homme et du citoyen.\n",
      "  \n",
      " Article premier.-- Les hommes naissent et demeurent libres et égaux en droits. Les distinctions sociales ne peuvent être fondées que sur l'utilité commune.\n",
      "  \n",
      " Article 2.- Le but de toute association politique est la conservation des droits naturels et imprescriptibles de l'homme. Ces droits sont la liberté, la propriété, la sûreté et la résistance à l'oppression. \n",
      "  \n",
      " Article 3.- Le principe de toute souveraineté réside essentiellement dans la nation ; nul corps, nul individu ne peut exercer d'autorité qui n'en émane expressément. \n",
      "  \n",
      " Article 4.- La liberté consiste à pouvoir faire tout ce qui ne nuit pas à autrui : ainsi, l'exercice des droits naturels de chaque homme n'a de bornes que celles qui assurent aux autres membres de la société, la jouissance de ces mêmes droits. Ces bornes ne peuvent être déterminées que par la loi. \n",
      "  \n",
      " Article 5.- La loi n'a le droit de défendre que les actions nuisibles à la société. Tout ce qui n'est pas défendu par la loi ne peut être empêché, et nul ne peut être contraint à faire ce qu'elle n'ordonne pas. \n",
      "  \n",
      " Article 6.- La loi est l'expression de la volonté générale. Tous les citoyens ont droit de concourir personnellement, ou par leurs représentants, à sa formation. Elle doit être la même pour tous, soit qu'elle protège, soit qu'elle punisse. Tous les citoyens étant égaux à ses yeux, sont également admissibles à toutes dignités, places et emplois publics, selon leur capacité, et sans autre distinction que celle de leurs vertus et de leurs talents. \n",
      "  \n",
      " Article 7.- Nul homme ne peut être accusé, arrêté, ni détenu que dans les cas déterminés par la loi, et selon les formes qu'elle a prescrites. Ceux qui sollicitent, expédient, exécutent ou font exécuter des ordres arbitraires, doivent être punis ; mais tout citoyen appelé ou saisi en vertu de la loi, doit obéir à l'instant : il se rend coupable par la résistance. \n",
      "  \n",
      " Article 8.- La loi ne doit établir que des peines strictement et évidemment nécessaires, et nul ne peut être puni qu'en vertu d'une loi établie et promulguée antérieurement au délit, et légalement appliquée. \n",
      "  \n",
      " Article 9.- Tout homme étant présumé innocent jusqu'à ce qu'il ait été déclaré coupable, s'il est jugé indispensable de l'arrêter, toute rigueur qui ne serait pas nécessaire pour s'assurer de sa personne, doit être sévèrement réprimée par la loi. \n",
      "  \n",
      " Article 10.- Nul ne doit être inquiété pour ses opinions, même religieuses, pourvu que leur manifestation ne trouble pas l'ordre public établi par la loi. \n",
      "  \n",
      " Article 11.- La libre communication des pensées et des opinions est un des droits les plus précieux de l'homme ; tout citoyen peut donc parler, écrire, imprimer librement, sauf à répondre de l'abus de cette liberté dans les cas déterminés par la loi. \n",
      "  \n",
      " Article 12.- La garantie des droits de l'homme et du citoyen nécessite une force publique ; cette force est donc instituée pour l'avantage de tous, et non pour l'utilité particulière de ceux elle est confiée. \n",
      "  \n",
      " Article 13.- Pour l'entretien de la force publique, et pour les dépenses d'administration, une contribution commune est indispensable ; elle doit être également répartie entre tous les citoyens, en raison de leurs facultés. \n",
      "  \n",
      " Article 14.- Tous les citoyens ont le droit de constater par eux-mêmes, ou par leurs représentants, la nécessité de la contribution publique, de la consentir librement, d'en suivre l'emploi, et d'en déterminer la quotité, l'assiette, le recouvrement et la durée. \n",
      "  \n",
      " Article 15.- La société a le droit de demander compte à tout agent public de son administration. \n",
      "  \n",
      " Article 16.- Toute société dans laquelle la garantie des droits n'est pas assurée, ni la séparation des pouvoirs déterminée, n'a point de constitution. \n",
      "  \n",
      " Article 17.- La propriété étant un droit inviolable et sacré, nul ne peut en être privé, si ce n'est lorsque la nécessité publique, légalement constatée, l'exige évidemment, et sous la condition d'une juste et préalable indemnité.\n"
     ]
    }
   ],
   "source": [
    "# Read txt file\n",
    "file = open(\"Declaration1789.txt\", 'r', encoding='latin-1')\n",
    "data = file.read()\n",
    "print(data)"
   ]
  },
  {
   "cell_type": "code",
   "execution_count": 31,
   "metadata": {},
   "outputs": [],
   "source": [
    "# Loop through the file to count characters then store in a dictionary\n",
    "character_dict = {}\n",
    "for c in data:\n",
    "    if c not in character_dict:\n",
    "        character_dict[c] = {\"count\": 1, \"prob\": 0}\n",
    "    else:\n",
    "        character_dict[c][\"count\"] += 1"
   ]
  },
  {
   "cell_type": "code",
   "execution_count": 34,
   "metadata": {},
   "outputs": [
    {
     "name": "stdout",
     "output_type": "stream",
     "text": [
      "There 57 different characters in the file\n"
     ]
    }
   ],
   "source": [
    "print(f\"There {len(character_dict)} different characters in the file\")\n"
   ]
  },
  {
   "cell_type": "code",
   "execution_count": null,
   "metadata": {},
   "outputs": [],
   "source": [
    "# Calculate the probabilities of each characters\n",
    "len_data = len(data)\n",
    "for key, value in character_dict.items():\n",
    "    value[\"prob\"] = value[\"count\"] / len_data"
   ]
  },
  {
   "cell_type": "code",
   "execution_count": 38,
   "metadata": {},
   "outputs": [
    {
     "data": {
      "text/plain": [
       "0.1672690763052209"
      ]
     },
     "execution_count": 38,
     "metadata": {},
     "output_type": "execute_result"
    }
   ],
   "source": [
    "character_dict[\" \"][\"prob\"]"
   ]
  },
  {
   "cell_type": "markdown",
   "metadata": {},
   "source": [
    "## Exercise 2: Calculate the entropy of the file"
   ]
  },
  {
   "cell_type": "code",
   "execution_count": 40,
   "metadata": {},
   "outputs": [
    {
     "name": "stdout",
     "output_type": "stream",
     "text": [
      "Entropy: 4.324709030776801\n"
     ]
    }
   ],
   "source": [
    "H = 0\n",
    "for key, value in character_dict.items():\n",
    "    H -= value[\"prob\"]*np.log2(value[\"prob\"])\n",
    "\n",
    "print(f\"Entropy: {H}\")"
   ]
  },
  {
   "cell_type": "markdown",
   "metadata": {},
   "source": [
    "## Exercise 3: \n",
    "Assume that the declaration was generated by a first order Markov source. Evaluate the matrix P"
   ]
  },
  {
   "cell_type": "code",
   "execution_count": null,
   "metadata": {},
   "outputs": [],
   "source": []
  }
 ],
 "metadata": {
  "kernelspec": {
   "display_name": "Face-mask-detection-env",
   "language": "python",
   "name": "python3"
  },
  "language_info": {
   "codemirror_mode": {
    "name": "ipython",
    "version": 3
   },
   "file_extension": ".py",
   "mimetype": "text/x-python",
   "name": "python",
   "nbconvert_exporter": "python",
   "pygments_lexer": "ipython3",
   "version": "3.11.11"
  }
 },
 "nbformat": 4,
 "nbformat_minor": 2
}
