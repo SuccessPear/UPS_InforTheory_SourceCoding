{
 "cells": [
  {
   "cell_type": "markdown",
   "metadata": {},
   "source": [
    "## Exercise 1: \n",
    "Evaluate the vector P for the text of the French declaration des droits de l'homme"
   ]
  },
  {
   "cell_type": "code",
   "execution_count": 64,
   "metadata": {},
   "outputs": [],
   "source": [
    "import numpy as np\n",
    "import pandas as pd"
   ]
  },
  {
   "cell_type": "code",
   "execution_count": 30,
   "metadata": {},
   "outputs": [
    {
     "name": "stdout",
     "output_type": "stream",
     "text": [
      "[Préambule]\n",
      "\n",
      "Les représentants du Peuple français, constitués en Assemblée nationale, considérant que l'ignorance, l'oubli ou le mépris des droits de l'homme sont les seules causes des malheurs publics et de la corruption des gouvernements, ont résolu d'exposer, dans une déclaration solennelle, les droits naturels, inaliénables et sacrés de l'homme, afin que cette déclaration, constamment présente à tous les membres du corps social, leur rappelle sans cesse leurs droits et leurs devoirs ; afin que les actes du pouvoir législatif et ceux du pouvoir exécutif, pouvant être à chaque instant comparés avec le but de toute institution politique, en soient plus respectés ; afin que les réclamations des citoyens, fondées désormais sur des principes simples et incontestables, tournent toujours au maintien de la constitution et au bonheur de tous.\n",
      "En conséquence, l'Assemblée nationale reconnaît et déclare, en présence et sous les auspices de l'Etre suprême, les droits suivants de l'homme et du citoyen.\n",
      "  \n",
      " Article premier.-- Les hommes naissent et demeurent libres et égaux en droits. Les distinctions sociales ne peuvent être fondées que sur l'utilité commune.\n",
      "  \n",
      " Article 2.- Le but de toute association politique est la conservation des droits naturels et imprescriptibles de l'homme. Ces droits sont la liberté, la propriété, la sûreté et la résistance à l'oppression. \n",
      "  \n",
      " Article 3.- Le principe de toute souveraineté réside essentiellement dans la nation ; nul corps, nul individu ne peut exercer d'autorité qui n'en émane expressément. \n",
      "  \n",
      " Article 4.- La liberté consiste à pouvoir faire tout ce qui ne nuit pas à autrui : ainsi, l'exercice des droits naturels de chaque homme n'a de bornes que celles qui assurent aux autres membres de la société, la jouissance de ces mêmes droits. Ces bornes ne peuvent être déterminées que par la loi. \n",
      "  \n",
      " Article 5.- La loi n'a le droit de défendre que les actions nuisibles à la société. Tout ce qui n'est pas défendu par la loi ne peut être empêché, et nul ne peut être contraint à faire ce qu'elle n'ordonne pas. \n",
      "  \n",
      " Article 6.- La loi est l'expression de la volonté générale. Tous les citoyens ont droit de concourir personnellement, ou par leurs représentants, à sa formation. Elle doit être la même pour tous, soit qu'elle protège, soit qu'elle punisse. Tous les citoyens étant égaux à ses yeux, sont également admissibles à toutes dignités, places et emplois publics, selon leur capacité, et sans autre distinction que celle de leurs vertus et de leurs talents. \n",
      "  \n",
      " Article 7.- Nul homme ne peut être accusé, arrêté, ni détenu que dans les cas déterminés par la loi, et selon les formes qu'elle a prescrites. Ceux qui sollicitent, expédient, exécutent ou font exécuter des ordres arbitraires, doivent être punis ; mais tout citoyen appelé ou saisi en vertu de la loi, doit obéir à l'instant : il se rend coupable par la résistance. \n",
      "  \n",
      " Article 8.- La loi ne doit établir que des peines strictement et évidemment nécessaires, et nul ne peut être puni qu'en vertu d'une loi établie et promulguée antérieurement au délit, et légalement appliquée. \n",
      "  \n",
      " Article 9.- Tout homme étant présumé innocent jusqu'à ce qu'il ait été déclaré coupable, s'il est jugé indispensable de l'arrêter, toute rigueur qui ne serait pas nécessaire pour s'assurer de sa personne, doit être sévèrement réprimée par la loi. \n",
      "  \n",
      " Article 10.- Nul ne doit être inquiété pour ses opinions, même religieuses, pourvu que leur manifestation ne trouble pas l'ordre public établi par la loi. \n",
      "  \n",
      " Article 11.- La libre communication des pensées et des opinions est un des droits les plus précieux de l'homme ; tout citoyen peut donc parler, écrire, imprimer librement, sauf à répondre de l'abus de cette liberté dans les cas déterminés par la loi. \n",
      "  \n",
      " Article 12.- La garantie des droits de l'homme et du citoyen nécessite une force publique ; cette force est donc instituée pour l'avantage de tous, et non pour l'utilité particulière de ceux elle est confiée. \n",
      "  \n",
      " Article 13.- Pour l'entretien de la force publique, et pour les dépenses d'administration, une contribution commune est indispensable ; elle doit être également répartie entre tous les citoyens, en raison de leurs facultés. \n",
      "  \n",
      " Article 14.- Tous les citoyens ont le droit de constater par eux-mêmes, ou par leurs représentants, la nécessité de la contribution publique, de la consentir librement, d'en suivre l'emploi, et d'en déterminer la quotité, l'assiette, le recouvrement et la durée. \n",
      "  \n",
      " Article 15.- La société a le droit de demander compte à tout agent public de son administration. \n",
      "  \n",
      " Article 16.- Toute société dans laquelle la garantie des droits n'est pas assurée, ni la séparation des pouvoirs déterminée, n'a point de constitution. \n",
      "  \n",
      " Article 17.- La propriété étant un droit inviolable et sacré, nul ne peut en être privé, si ce n'est lorsque la nécessité publique, légalement constatée, l'exige évidemment, et sous la condition d'une juste et préalable indemnité.\n"
     ]
    }
   ],
   "source": [
    "# Read txt file\n",
    "file = open(\"Declaration1789.txt\", 'r', encoding='latin-1')\n",
    "data = file.read()\n",
    "print(data)"
   ]
  },
  {
   "cell_type": "code",
   "execution_count": 48,
   "metadata": {},
   "outputs": [],
   "source": [
    "# Loop through the file to count characters then store in a dictionary\n",
    "character_dict = {}\n",
    "idx = 0\n",
    "for c in data:\n",
    "    if c not in character_dict:\n",
    "        character_dict[c] = {\"count\": 1, \"prob\": 0, \"idx\": idx}\n",
    "        idx += 1\n",
    "    else:\n",
    "        character_dict[c][\"count\"] += 1"
   ]
  },
  {
   "cell_type": "code",
   "execution_count": 49,
   "metadata": {},
   "outputs": [
    {
     "name": "stdout",
     "output_type": "stream",
     "text": [
      "There 57 different characters in the file\n"
     ]
    }
   ],
   "source": [
    "print(f\"There {len(character_dict)} different characters in the file\")\n"
   ]
  },
  {
   "cell_type": "code",
   "execution_count": 65,
   "metadata": {},
   "outputs": [],
   "source": [
    "# Calculate the probabilities of each characters\n",
    "len_data = len(data)\n",
    "\n",
    "chars = []\n",
    "for key, value in character_dict.items():\n",
    "    chars.append(key)\n",
    "    value[\"prob\"] = value[\"count\"] / len_data"
   ]
  },
  {
   "cell_type": "code",
   "execution_count": 66,
   "metadata": {},
   "outputs": [
    {
     "data": {
      "text/plain": [
       "0.1672690763052209"
      ]
     },
     "execution_count": 66,
     "metadata": {},
     "output_type": "execute_result"
    }
   ],
   "source": [
    "character_dict[\" \"][\"prob\"]"
   ]
  },
  {
   "cell_type": "markdown",
   "metadata": {},
   "source": [
    "## Exercise 2: Calculate the entropy of the file"
   ]
  },
  {
   "cell_type": "code",
   "execution_count": 52,
   "metadata": {},
   "outputs": [
    {
     "name": "stdout",
     "output_type": "stream",
     "text": [
      "Entropy: 4.324709030776801\n"
     ]
    }
   ],
   "source": [
    "H = 0\n",
    "for key, value in character_dict.items():\n",
    "    H -= value[\"prob\"]*np.log2(value[\"prob\"])\n",
    "\n",
    "print(f\"Entropy: {H}\")"
   ]
  },
  {
   "cell_type": "markdown",
   "metadata": {},
   "source": [
    "## Exercise 3: \n",
    "Assume that the declaration was generated by a first order Markov source. Evaluate the matrix P\n",
    "\n",
    "We need to calculate the $P(X_n=a \\mid X_{n-1}=b)$ for a and b are the character from the matrix.\n",
    "\n",
    "Follow the Bayes rules, we have\n",
    "\n",
    "$P(X_n=a\\mid X_{n-1}=b) = \\frac{P(X_n=a,X_{n-1}=b)}{P(X_{n-1}=b)}$"
   ]
  },
  {
   "cell_type": "code",
   "execution_count": 53,
   "metadata": {},
   "outputs": [],
   "source": [
    "# Count the number of pair in the document, for example \"ab\", \"bc\"\n",
    "pair_dict = {}\n",
    "for i in range(len(data)-1):\n",
    "    tmp = data[i:i+2]\n",
    "    if tmp not in pair_dict:\n",
    "        pair_dict[tmp] = 1\n",
    "    else:\n",
    "        pair_dict[tmp] += 1"
   ]
  },
  {
   "cell_type": "code",
   "execution_count": 59,
   "metadata": {},
   "outputs": [],
   "source": [
    "for key, value in pair_dict.items():\n",
    "    pair_dict[key] = value/(len(data)-1)"
   ]
  },
  {
   "cell_type": "code",
   "execution_count": 60,
   "metadata": {},
   "outputs": [
    {
     "name": "stdout",
     "output_type": "stream",
     "text": [
      "There are 388 pairs in the document\n"
     ]
    }
   ],
   "source": [
    "print(f\"There are {len(pair_dict)} pairs in the document\")"
   ]
  },
  {
   "cell_type": "code",
   "execution_count": 61,
   "metadata": {},
   "outputs": [
    {
     "name": "stdout",
     "output_type": "stream",
     "text": [
      "{'[P': 0.0002008435428800964, 'Pr': 0.0002008435428800964, 'ré': 0.004619401486242217, 'éa': 0.0004016870857601928, 'am': 0.0006025306286402892, 'mb': 0.001004217714400482, 'bu': 0.0012050612572805785, 'ul': 0.002410122514561157, 'le': 0.018276762402088774, 'e]': 0.0002008435428800964, ']\\n': 0.0002008435428800964, '\\n\\n': 0.0002008435428800964, '\\nL': 0.0002008435428800964, 'Le': 0.001004217714400482, 'es': 0.020285197830889737, 's ': 0.028118096003213498, ' r': 0.0038160273147218315, 're': 0.01225145611568588, 'ep': 0.0006025306286402892, 'pr': 0.0054227756577626025, 'és': 0.0038160273147218315, 'se': 0.004820245029122314, 'en': 0.01446073508736694, 'nt': 0.013858204458726651, 'ta': 0.004016870857601928, 'an': 0.006025306286402892, 'ts': 0.003615183771841735, ' d': 0.023699538059851376, 'du': 0.0018075918859208676, 'u ': 0.004217714400482024, ' P': 0.0004016870857601928, 'Pe': 0.0002008435428800964, 'eu': 0.006627836915043182, 'up': 0.001004217714400482, 'pl': 0.0016067483430407712, 'e ': 0.03856196023297851, ' f': 0.002410122514561157, 'fr': 0.0002008435428800964, 'ra': 0.003414340228961639, 'nç': 0.0002008435428800964, 'ça': 0.0002008435428800964, 'ai': 0.003414340228961639, 'is': 0.004619401486242217, 's,': 0.003615183771841735, ', ': 0.013255673830086363, ' c': 0.011247238401285399, 'co': 0.006226149829282989, 'on': 0.013858204458726651, 'ns': 0.007431211086563567, 'st': 0.006226149829282989, 'ti': 0.01285398674432617, 'it': 0.011849769029925688, 'tu': 0.0022092789716810605, 'ué': 0.0008033741715203856, ' e': 0.011648925487045592, 'n ': 0.008435428800964049, ' A': 0.003615183771841735, 'As': 0.0004016870857601928, 'ss': 0.004217714400482024, 'em': 0.005221932114882507, 'bl': 0.005221932114882507, 'lé': 0.0012050612572805785, 'ée': 0.003012653143201446, ' n': 0.008636272343844146, 'na': 0.002410122514561157, 'at': 0.004016870857601928, 'io': 0.005824462743522796, 'al': 0.0026109660574412533, 'e,': 0.0038160273147218315, 'si': 0.003414340228961639, 'id': 0.001004217714400482, 'dé': 0.003615183771841735, 'ér': 0.0006025306286402892, 't ': 0.0222936332596907, ' q': 0.00502108857200241, 'qu': 0.007832898172323759, 'ue': 0.004820245029122314, ' l': 0.0222936332596907, \"l'\": 0.004820245029122314, \"'i\": 0.0008033741715203856, 'ig': 0.001004217714400482, 'gn': 0.0004016870857601928, 'no': 0.0006025306286402892, 'or': 0.003414340228961639, 'nc': 0.0028118096003213497, 'ce': 0.006627836915043182, \"'o\": 0.0008033741715203856, 'ou': 0.010443864229765013, 'ub': 0.002008435428800964, 'li': 0.005824462743522796, 'i ': 0.0038160273147218315, ' o': 0.002410122514561157, ' m': 0.002008435428800964, 'mé': 0.0006025306286402892, 'ép': 0.0012050612572805785, 'ri': 0.003615183771841735, 'de': 0.012050612572805784, 'dr': 0.004217714400482024, 'ro': 0.004418557943362121, 'oi': 0.009238802972484434, \"'h\": 0.0012050612572805785, 'ho': 0.002008435428800964, 'om': 0.0032134966860815424, 'mm': 0.0032134966860815424, 'me': 0.007431211086563567, ' s': 0.009238802972484434, 'so': 0.004820245029122314, 'ca': 0.001004217714400482, 'au': 0.0026109660574412533, 'us': 0.004016870857601928, 'ma': 0.0018075918859208676, 'lh': 0.0002008435428800964, 'he': 0.0004016870857601928, 'ur': 0.007029524000803374, 'rs': 0.0028118096003213497, ' p': 0.014862422173127134, 'pu': 0.0022092789716810605, 'ic': 0.0054227756577626025, 'cs': 0.0004016870857601928, 'et': 0.007632054629443663, 'la': 0.008234585258083953, 'a ': 0.009238802972484434, 'rr': 0.0006025306286402892, 'ru': 0.0004016870857601928, 'pt': 0.0006025306286402892, ' g': 0.0008033741715203856, 'go': 0.0002008435428800964, 'uv': 0.002008435428800964, 've': 0.0018075918859208676, 'er': 0.006025306286402892, 'rn': 0.0008033741715203856, 'ne': 0.006426993372163085, 'ol': 0.0014059048001606748, 'lu': 0.0006025306286402892, \"d'\": 0.0014059048001606748, \"'e\": 0.003414340228961639, 'ex': 0.002008435428800964, 'xp': 0.0008033741715203856, 'po': 0.003414340228961639, 'os': 0.0002008435428800964, 'r,': 0.0006025306286402892, 'da': 0.001004217714400482, ' u': 0.001004217714400482, 'un': 0.0026109660574412533, 'éc': 0.003012653143201446, 'cl': 0.004418557943362121, 'ar': 0.004820245029122314, 'nn': 0.0012050612572805785, 'el': 0.004016870857601928, 'll': 0.003012653143201446, 'ls': 0.0006025306286402892, ' i': 0.003012653143201446, 'in': 0.007029524000803374, 'ié': 0.0018075918859208676, 'én': 0.0004016870857601928, 'ab': 0.002410122514561157, 'sa': 0.0026109660574412533, 'ac': 0.0016067483430407712, 'cr': 0.001004217714400482, ' a': 0.006025306286402892, 'af': 0.0006025306286402892, 'fi': 0.0008033741715203856, 'tt': 0.0008033741715203856, 'te': 0.006025306286402892, 'n,': 0.0004016870857601928, ' à': 0.0026109660574412533, 'à ': 0.0028118096003213497, ' t': 0.003615183771841735, 'to': 0.005221932114882507, 'br': 0.0012050612572805785, 'rp': 0.0004016870857601928, 'ps': 0.0004016870857601928, 'oc': 0.0016067483430407712, 'ci': 0.004418557943362121, 'ia': 0.0006025306286402892, 'l,': 0.0002008435428800964, 'r ': 0.007632054629443663, 'ap': 0.0008033741715203856, 'pp': 0.0008033741715203856, 'pe': 0.004217714400482024, 'ev': 0.0002008435428800964, 'vo': 0.0012050612572805785, 'ir': 0.003012653143201446, ' ;': 0.0014059048001606748, '; ': 0.0014059048001606748, 'ct': 0.0012050612572805785, 'ég': 0.0014059048001606748, 'gi': 0.0004016870857601928, 'sl': 0.0002008435428800964, 'if': 0.0006025306286402892, 'f ': 0.0004016870857601928, 'ux': 0.0018075918859208676, 'x ': 0.0014059048001606748, 'xé': 0.0006025306286402892, 'cu': 0.0012050612572805785, 'ut': 0.007029524000803374, 'f,': 0.0002008435428800964, 'va': 0.0008033741715203856, ' ê': 0.0026109660574412533, 'êt': 0.003012653143201446, 'tr': 0.0054227756577626025, 'ch': 0.0006025306286402892, 'ha': 0.0004016870857601928, 'aq': 0.0006025306286402892, 'mp': 0.0016067483430407712, 'pa': 0.004820245029122314, 'av': 0.0004016870857601928, 'ec': 0.0008033741715203856, 'c ': 0.001004217714400482, ' b': 0.001004217714400482, 'iq': 0.0014059048001606748, 'ie': 0.0028118096003213497, 'sp': 0.0008033741715203856, 'té': 0.005623619200642699, 'oy': 0.0018075918859208676, 'ye': 0.002008435428800964, 'fo': 0.0016067483430407712, 'nd': 0.002410122514561157, 'rm': 0.0016067483430407712, 'su': 0.0018075918859208676, 'ip': 0.0006025306286402892, 'im': 0.001004217714400482, 'uj': 0.0002008435428800964, 'jo': 0.0004016870857601928, 'bo': 0.0006025306286402892, 'nh': 0.0002008435428800964, 's.': 0.0014059048001606748, '.\\n': 0.0006025306286402892, '\\nE': 0.0002008435428800964, 'En': 0.0002008435428800964, 'sé': 0.0012050612572805785, 'éq': 0.0002008435428800964, \"'A\": 0.0002008435428800964, 'aî': 0.0002008435428800964, 'ît': 0.0002008435428800964, 'pi': 0.0006025306286402892, \"'E\": 0.0002008435428800964, 'Et': 0.0002008435428800964, 'rê': 0.0006025306286402892, 'êm': 0.001004217714400482, 'ui': 0.0026109660574412533, 'iv': 0.001004217714400482, 'n.': 0.001004217714400482, '\\n ': 0.006828680457923278, '  ': 0.003414340228961639, ' \\n': 0.006426993372163085, 'Ar': 0.003414340228961639, 'rt': 0.00502108857200241, 'mi': 0.0018075918859208676, 'r.': 0.0002008435428800964, '.-': 0.003414340228961639, '--': 0.0002008435428800964, '- ': 0.003414340228961639, ' L': 0.002410122514561157, ' h': 0.0008033741715203856, 'ib': 0.002410122514561157, ' é': 0.003012653143201446, 'ga': 0.0016067483430407712, '. ': 0.004619401486242217, 'di': 0.0016067483430407712, \"'u\": 0.0008033741715203856, 'il': 0.001004217714400482, 'é ': 0.0038160273147218315, 'mu': 0.0008033741715203856, 'e.': 0.0016067483430407712, ' 2': 0.0002008435428800964, '2.': 0.0004016870857601928, 'as': 0.0026109660574412533, 'rv': 0.0004016870857601928, 'sc': 0.0004016870857601928, ' C': 0.0006025306286402892, 'Ce': 0.0006025306286402892, 'be': 0.0006025306286402892, 'é,': 0.002008435428800964, 'op': 0.001004217714400482, 'ét': 0.004016870857601928, 'sû': 0.0002008435428800964, 'ûr': 0.0002008435428800964, ' 3': 0.0002008435428800964, '3.': 0.0004016870857601928, 'nu': 0.0016067483430407712, 'l ': 0.002008435428800964, 'vi': 0.0008033741715203856, 'xe': 0.0004016870857601928, 'rc': 0.001004217714400482, \"'a\": 0.002008435428800964, \"n'\": 0.0016067483430407712, 'ém': 0.0004016870857601928, 't.': 0.0002008435428800964, ' 4': 0.0002008435428800964, '4.': 0.0004016870857601928, 'La': 0.0016067483430407712, 'fa': 0.0006025306286402892, ' :': 0.0004016870857601928, ': ': 0.0004016870857601928, 'i,': 0.0008033741715203856, ' j': 0.0008033741715203856, 'mê': 0.0008033741715203856, 'né': 0.002008435428800964, 'lo': 0.003414340228961639, 'i.': 0.0008033741715203856, ' 5': 0.0002008435428800964, '5.': 0.0004016870857601928, 'éf': 0.0004016870857601928, 'fe': 0.0006025306286402892, 'é.': 0.0004016870857601928, ' T': 0.0012050612572805785, 'To': 0.0012050612572805785, 'pê': 0.0002008435428800964, 'êc': 0.0002008435428800964, 'hé': 0.0002008435428800964, \"u'\": 0.0014059048001606748, 'rd': 0.0006025306286402892, 'do': 0.002008435428800964, ' 6': 0.0002008435428800964, '6.': 0.0004016870857601928, ' v': 0.0008033741715203856, 'gé': 0.0004016870857601928, 't,': 0.0014059048001606748, ' E': 0.0002008435428800964, 'El': 0.0002008435428800964, 'ot': 0.0004016870857601928, 'tè': 0.0002008435428800964, 'èg': 0.0002008435428800964, 'ge': 0.0008033741715203856, 'ni': 0.0026109660574412533, ' y': 0.0002008435428800964, 'x,': 0.0002008435428800964, 'ad': 0.0006025306286402892, 'dm': 0.0006025306286402892, ' 7': 0.0002008435428800964, '7.': 0.0004016870857601928, ' N': 0.0004016870857601928, 'Nu': 0.0004016870857601928, 'cc': 0.0002008435428800964, 'pé': 0.0002008435428800964, 'éd': 0.0002008435428800964, 'rb': 0.0002008435428800964, 'bi': 0.0002008435428800964, 'ob': 0.0002008435428800964, 'bé': 0.0002008435428800964, 'éi': 0.0002008435428800964, 'd ': 0.0002008435428800964, ' 8': 0.0002008435428800964, '8.': 0.0002008435428800964, 'ei': 0.0002008435428800964, 'év': 0.0006025306286402892, 'lg': 0.0002008435428800964, 'gu': 0.0004016870857601928, 'él': 0.0002008435428800964, ' 9': 0.0002008435428800964, '9.': 0.0002008435428800964, 'um': 0.0002008435428800964, 'ju': 0.0006025306286402892, 'sq': 0.0004016870857601928, \"'à\": 0.0002008435428800964, \"s'\": 0.0004016870857601928, 'ug': 0.0002008435428800964, 'vè': 0.0002008435428800964, 'èr': 0.0004016870857601928, ' 1': 0.0016067483430407712, '10': 0.0002008435428800964, '0.': 0.0002008435428800964, 'nq': 0.0002008435428800964, 'vu': 0.0002008435428800964, '11': 0.0002008435428800964, '1.': 0.0002008435428800964, 'rl': 0.0002008435428800964, 'uf': 0.0002008435428800964, '12': 0.0002008435428800964, 'ag': 0.0004016870857601928, 'iè': 0.0002008435428800964, 'nf': 0.0002008435428800964, '13': 0.0002008435428800964, 'Po': 0.0002008435428800964, 'lt': 0.0002008435428800964, '14': 0.0002008435428800964, 'x-': 0.0002008435428800964, '-m': 0.0002008435428800964, 'vr': 0.0004016870857601928, 'uo': 0.0002008435428800964, '15': 0.0002008435428800964, '16': 0.0002008435428800964, '17': 0.0002008435428800964, 'nv': 0.0002008435428800964, 'vé': 0.0002008435428800964, 'xi': 0.0002008435428800964, 'mn': 0.0002008435428800964}\n"
     ]
    }
   ],
   "source": [
    "print(pair_dict)"
   ]
  },
  {
   "cell_type": "markdown",
   "metadata": {},
   "source": [
    "There are 57 different characters in the document so the P matrix will have the shape 57x57\n",
    "\n",
    "If the pair \"xy\" doesnt exist in the pair_dict then P[x][y] = 0"
   ]
  },
  {
   "cell_type": "code",
   "execution_count": null,
   "metadata": {},
   "outputs": [],
   "source": [
    "P = np.zeros((len(character_dict),len(character_dict)))\n",
    "\n",
    "for key, value in pair_dict.items():\n",
    "    a = key[1]\n",
    "    b = key[0]\n",
    "    P[character_dict[a][\"idx\"]][character_dict[b][\"idx\"]] = value / character_dict[b][\"prob\"]\n",
    "\n"
   ]
  },
  {
   "cell_type": "code",
   "execution_count": 63,
   "metadata": {},
   "outputs": [
    {
     "name": "stdout",
     "output_type": "stream",
     "text": [
      "[[0.         0.         0.         ... 0.         0.         0.        ]\n",
      " [1.00020084 0.         0.         ... 0.         0.         0.        ]\n",
      " [0.         0.33340028 0.0117211  ... 0.         0.         0.        ]\n",
      " ...\n",
      " [0.         0.         0.         ... 0.         0.         0.        ]\n",
      " [0.         0.         0.         ... 0.         0.11113343 0.        ]\n",
      " [0.         0.         0.         ... 0.         0.11113343 0.        ]]\n"
     ]
    }
   ],
   "source": [
    "print(P)"
   ]
  },
  {
   "cell_type": "code",
   "execution_count": 67,
   "metadata": {},
   "outputs": [],
   "source": [
    "P_df = pd.DataFrame(P, index=chars, columns=chars)"
   ]
  },
  {
   "cell_type": "code",
   "execution_count": 70,
   "metadata": {},
   "outputs": [
    {
     "data": {
      "text/plain": [
       "(57, 57)"
      ]
     },
     "execution_count": 70,
     "metadata": {},
     "output_type": "execute_result"
    }
   ],
   "source": [
    "P_df.shape"
   ]
  },
  {
   "cell_type": "code",
   "execution_count": 71,
   "metadata": {},
   "outputs": [
    {
     "name": "stdout",
     "output_type": "stream",
     "text": [
      "          [       P         r         é         a\n",
      "[  0.000000  0.0000  0.000000  0.000000  0.000000\n",
      "P  1.000201  0.0000  0.000000  0.000000  0.000000\n",
      "r  0.000000  0.3334  0.011721  0.022905  0.110621\n",
      "é  0.000000  0.0000  0.089862  0.000000  0.000000\n",
      "a  0.000000  0.0000  0.066420  0.015270  0.000000\n"
     ]
    }
   ],
   "source": [
    "print(P_df.iloc[0:5,0:5])"
   ]
  }
 ],
 "metadata": {
  "kernelspec": {
   "display_name": "Face-mask-detection-env",
   "language": "python",
   "name": "python3"
  },
  "language_info": {
   "codemirror_mode": {
    "name": "ipython",
    "version": 3
   },
   "file_extension": ".py",
   "mimetype": "text/x-python",
   "name": "python",
   "nbconvert_exporter": "python",
   "pygments_lexer": "ipython3",
   "version": "3.11.11"
  }
 },
 "nbformat": 4,
 "nbformat_minor": 2
}
