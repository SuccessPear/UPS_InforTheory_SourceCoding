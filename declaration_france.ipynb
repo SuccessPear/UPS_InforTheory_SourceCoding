{
 "cells": [
  {
   "cell_type": "markdown",
   "metadata": {},
   "source": [
    "## Exercise 1: \n",
    "Evaluate the vector P for the text of the French declaration des droits de l'homme"
   ]
  },
  {
   "cell_type": "code",
   "execution_count": 107,
   "metadata": {},
   "outputs": [],
   "source": [
    "import numpy as np\n",
    "import pandas as pd"
   ]
  },
  {
   "cell_type": "code",
   "execution_count": 108,
   "metadata": {},
   "outputs": [
    {
     "name": "stdout",
     "output_type": "stream",
     "text": [
      "[Préambule]\n",
      "\n",
      "Les représentants du Peuple français, constitués en Assemblée nationale, considérant que l'ignorance, l'oubli ou le mépris des droits de l'homme sont les seules causes des malheurs publics et de la corruption des gouvernements, ont résolu d'exposer, dans une déclaration solennelle, les droits naturels, inaliénables et sacrés de l'homme, afin que cette déclaration, constamment présente à tous les membres du corps social, leur rappelle sans cesse leurs droits et leurs devoirs ; afin que les actes du pouvoir législatif et ceux du pouvoir exécutif, pouvant être à chaque instant comparés avec le but de toute institution politique, en soient plus respectés ; afin que les réclamations des citoyens, fondées désormais sur des principes simples et incontestables, tournent toujours au maintien de la constitution et au bonheur de tous.\n",
      "En conséquence, l'Assemblée nationale reconnaît et déclare, en présence et sous les auspices de l'Etre suprême, les droits suivants de l'homme et du citoyen.\n",
      "  \n",
      " Article premier.-- Les hommes naissent et demeurent libres et égaux en droits. Les distinctions sociales ne peuvent être fondées que sur l'utilité commune.\n",
      "  \n",
      " Article 2.- Le but de toute association politique est la conservation des droits naturels et imprescriptibles de l'homme. Ces droits sont la liberté, la propriété, la sûreté et la résistance à l'oppression. \n",
      "  \n",
      " Article 3.- Le principe de toute souveraineté réside essentiellement dans la nation ; nul corps, nul individu ne peut exercer d'autorité qui n'en émane expressément. \n",
      "  \n",
      " Article 4.- La liberté consiste à pouvoir faire tout ce qui ne nuit pas à autrui : ainsi, l'exercice des droits naturels de chaque homme n'a de bornes que celles qui assurent aux autres membres de la société, la jouissance de ces mêmes droits. Ces bornes ne peuvent être déterminées que par la loi. \n",
      "  \n",
      " Article 5.- La loi n'a le droit de défendre que les actions nuisibles à la société. Tout ce qui n'est pas défendu par la loi ne peut être empêché, et nul ne peut être contraint à faire ce qu'elle n'ordonne pas. \n",
      "  \n",
      " Article 6.- La loi est l'expression de la volonté générale. Tous les citoyens ont droit de concourir personnellement, ou par leurs représentants, à sa formation. Elle doit être la même pour tous, soit qu'elle protège, soit qu'elle punisse. Tous les citoyens étant égaux à ses yeux, sont également admissibles à toutes dignités, places et emplois publics, selon leur capacité, et sans autre distinction que celle de leurs vertus et de leurs talents. \n",
      "  \n",
      " Article 7.- Nul homme ne peut être accusé, arrêté, ni détenu que dans les cas déterminés par la loi, et selon les formes qu'elle a prescrites. Ceux qui sollicitent, expédient, exécutent ou font exécuter des ordres arbitraires, doivent être punis ; mais tout citoyen appelé ou saisi en vertu de la loi, doit obéir à l'instant : il se rend coupable par la résistance. \n",
      "  \n",
      " Article 8.- La loi ne doit établir que des peines strictement et évidemment nécessaires, et nul ne peut être puni qu'en vertu d'une loi établie et promulguée antérieurement au délit, et légalement appliquée. \n",
      "  \n",
      " Article 9.- Tout homme étant présumé innocent jusqu'à ce qu'il ait été déclaré coupable, s'il est jugé indispensable de l'arrêter, toute rigueur qui ne serait pas nécessaire pour s'assurer de sa personne, doit être sévèrement réprimée par la loi. \n",
      "  \n",
      " Article 10.- Nul ne doit être inquiété pour ses opinions, même religieuses, pourvu que leur manifestation ne trouble pas l'ordre public établi par la loi. \n",
      "  \n",
      " Article 11.- La libre communication des pensées et des opinions est un des droits les plus précieux de l'homme ; tout citoyen peut donc parler, écrire, imprimer librement, sauf à répondre de l'abus de cette liberté dans les cas déterminés par la loi. \n",
      "  \n",
      " Article 12.- La garantie des droits de l'homme et du citoyen nécessite une force publique ; cette force est donc instituée pour l'avantage de tous, et non pour l'utilité particulière de ceux elle est confiée. \n",
      "  \n",
      " Article 13.- Pour l'entretien de la force publique, et pour les dépenses d'administration, une contribution commune est indispensable ; elle doit être également répartie entre tous les citoyens, en raison de leurs facultés. \n",
      "  \n",
      " Article 14.- Tous les citoyens ont le droit de constater par eux-mêmes, ou par leurs représentants, la nécessité de la contribution publique, de la consentir librement, d'en suivre l'emploi, et d'en déterminer la quotité, l'assiette, le recouvrement et la durée. \n",
      "  \n",
      " Article 15.- La société a le droit de demander compte à tout agent public de son administration. \n",
      "  \n",
      " Article 16.- Toute société dans laquelle la garantie des droits n'est pas assurée, ni la séparation des pouvoirs déterminée, n'a point de constitution. \n",
      "  \n",
      " Article 17.- La propriété étant un droit inviolable et sacré, nul ne peut en être privé, si ce n'est lorsque la nécessité publique, légalement constatée, l'exige évidemment, et sous la condition d'une juste et préalable indemnité.\n"
     ]
    }
   ],
   "source": [
    "# Read txt file\n",
    "file = open(\"Declaration1789.txt\", 'r', encoding='latin-1')\n",
    "data = file.read()\n",
    "print(data)"
   ]
  },
  {
   "cell_type": "code",
   "execution_count": 109,
   "metadata": {},
   "outputs": [],
   "source": [
    "# Loop through the file to count characters then store in a dictionary\n",
    "character_dict = {}\n",
    "idx = 0\n",
    "for c in data:\n",
    "    if c not in character_dict:\n",
    "        character_dict[c] = {\"count\": 1, \"prob\": 0, \"idx\": idx}\n",
    "        idx += 1\n",
    "    else:\n",
    "        character_dict[c][\"count\"] += 1"
   ]
  },
  {
   "cell_type": "code",
   "execution_count": 110,
   "metadata": {},
   "outputs": [
    {
     "name": "stdout",
     "output_type": "stream",
     "text": [
      "There 57 different characters in the file\n"
     ]
    }
   ],
   "source": [
    "print(f\"There {len(character_dict)} different characters in the file\")\n"
   ]
  },
  {
   "cell_type": "code",
   "execution_count": 111,
   "metadata": {},
   "outputs": [],
   "source": [
    "# Calculate the probabilities of each characters\n",
    "len_data = len(data)\n",
    "\n",
    "chars = []\n",
    "for key, value in character_dict.items():\n",
    "    chars.append(key)\n",
    "    value[\"prob\"] = value[\"count\"] / len_data"
   ]
  },
  {
   "cell_type": "code",
   "execution_count": 112,
   "metadata": {},
   "outputs": [
    {
     "data": {
      "text/plain": [
       "0.1672690763052209"
      ]
     },
     "execution_count": 112,
     "metadata": {},
     "output_type": "execute_result"
    }
   ],
   "source": [
    "character_dict[\" \"][\"prob\"]"
   ]
  },
  {
   "cell_type": "markdown",
   "metadata": {},
   "source": [
    "## Exercise 2: Calculate the entropy of the file"
   ]
  },
  {
   "cell_type": "code",
   "execution_count": 113,
   "metadata": {},
   "outputs": [
    {
     "name": "stdout",
     "output_type": "stream",
     "text": [
      "Entropy: 4.324709030776801\n"
     ]
    }
   ],
   "source": [
    "H = 0\n",
    "for key, value in character_dict.items():\n",
    "    H -= value[\"prob\"]*np.log2(value[\"prob\"])\n",
    "\n",
    "print(f\"Entropy: {H}\")"
   ]
  },
  {
   "cell_type": "markdown",
   "metadata": {},
   "source": [
    "## Exercise 3: \n",
    "Assume that the declaration was generated by a first order Markov source. Evaluate the matrix P\n",
    "\n",
    "We need to calculate the $P(X_n=a \\mid X_{n-1}=b)$ for a and b are the character from the matrix.\n",
    "\n",
    "Follow the Bayes rules, we have\n",
    "\n",
    "$P(X_n=a\\mid X_{n-1}=b) = \\frac{P(X_n=a,X_{n-1}=b)}{P(X_{n-1}=b)}$\n",
    "\n",
    "Or we can calculate the probability as\n",
    "\n",
    "$P(X_n=a\\mid X_{n-1}=b) = \\frac{\\text{Number of pair ba}}{\\text{Number of b}}$\n",
    "\n",
    "But for the last character in the document, it doesnt have a character follow so we need to take \"Number of b\" - 1 "
   ]
  },
  {
   "cell_type": "code",
   "execution_count": 114,
   "metadata": {},
   "outputs": [],
   "source": [
    "# Count the number of pair in the document, for example \"ab\", \"bc\"\n",
    "pair_dict = {}\n",
    "for i in range(len(data)-1):\n",
    "    tmp = data[i:i+2]\n",
    "    if tmp not in pair_dict:\n",
    "        pair_dict[tmp] = 1\n",
    "    else:\n",
    "        pair_dict[tmp] += 1"
   ]
  },
  {
   "cell_type": "code",
   "execution_count": 115,
   "metadata": {},
   "outputs": [],
   "source": [
    "# for key, value in pair_dict.items():\n",
    "#     pair_dict[key] = value/(len(data)-1)"
   ]
  },
  {
   "cell_type": "code",
   "execution_count": 116,
   "metadata": {},
   "outputs": [
    {
     "name": "stdout",
     "output_type": "stream",
     "text": [
      "There are 388 pairs in the document\n"
     ]
    }
   ],
   "source": [
    "print(f\"There are {len(pair_dict)} pairs in the document\")"
   ]
  },
  {
   "cell_type": "code",
   "execution_count": 117,
   "metadata": {},
   "outputs": [
    {
     "name": "stdout",
     "output_type": "stream",
     "text": [
      "{'[P': 1, 'Pr': 1, 'ré': 23, 'éa': 2, 'am': 3, 'mb': 5, 'bu': 6, 'ul': 12, 'le': 91, 'e]': 1, ']\\n': 1, '\\n\\n': 1, '\\nL': 1, 'Le': 5, 'es': 101, 's ': 140, ' r': 19, 're': 61, 'ep': 3, 'pr': 27, 'és': 19, 'se': 24, 'en': 72, 'nt': 69, 'ta': 20, 'an': 30, 'ts': 18, ' d': 118, 'du': 9, 'u ': 21, ' P': 2, 'Pe': 1, 'eu': 33, 'up': 5, 'pl': 8, 'e ': 192, ' f': 12, 'fr': 1, 'ra': 17, 'nç': 1, 'ça': 1, 'ai': 17, 'is': 23, 's,': 18, ', ': 66, ' c': 56, 'co': 31, 'on': 69, 'ns': 37, 'st': 31, 'ti': 64, 'it': 59, 'tu': 11, 'ué': 4, ' e': 58, 'n ': 42, ' A': 18, 'As': 2, 'ss': 21, 'em': 26, 'bl': 26, 'lé': 6, 'ée': 15, ' n': 43, 'na': 12, 'at': 20, 'io': 29, 'al': 13, 'e,': 19, 'si': 17, 'id': 5, 'dé': 18, 'ér': 3, 't ': 111, ' q': 25, 'qu': 39, 'ue': 24, ' l': 111, \"l'\": 24, \"'i\": 4, 'ig': 5, 'gn': 2, 'no': 3, 'or': 17, 'nc': 14, 'ce': 33, \"'o\": 4, 'ou': 52, 'ub': 10, 'li': 29, 'i ': 19, ' o': 12, ' m': 10, 'mé': 3, 'ép': 6, 'ri': 18, 'de': 60, 'dr': 21, 'ro': 22, 'oi': 46, \"'h\": 6, 'ho': 10, 'om': 16, 'mm': 16, 'me': 37, ' s': 46, 'so': 24, 'ca': 5, 'au': 13, 'us': 20, 'ma': 9, 'lh': 1, 'he': 2, 'ur': 35, 'rs': 14, ' p': 74, 'pu': 11, 'ic': 27, 'cs': 2, 'et': 38, 'la': 41, 'a ': 46, 'rr': 3, 'ru': 2, 'pt': 3, ' g': 4, 'go': 1, 'uv': 10, 've': 9, 'er': 30, 'rn': 4, 'ne': 32, 'ol': 7, 'lu': 3, \"d'\": 7, \"'e\": 17, 'ex': 10, 'xp': 4, 'po': 17, 'os': 1, 'r,': 3, 'da': 5, ' u': 5, 'un': 13, 'éc': 15, 'cl': 22, 'ar': 24, 'nn': 6, 'el': 20, 'll': 15, 'ls': 3, ' i': 15, 'in': 35, 'ié': 9, 'én': 2, 'ab': 12, 'sa': 13, 'ac': 8, 'cr': 5, ' a': 30, 'af': 3, 'fi': 4, 'tt': 4, 'te': 30, 'n,': 2, ' à': 13, 'à ': 14, ' t': 18, 'to': 26, 'br': 6, 'rp': 2, 'ps': 2, 'oc': 8, 'ci': 22, 'ia': 3, 'l,': 1, 'r ': 38, 'ap': 4, 'pp': 4, 'pe': 21, 'ev': 1, 'vo': 6, 'ir': 15, ' ;': 7, '; ': 7, 'ct': 6, 'ég': 7, 'gi': 2, 'sl': 1, 'if': 3, 'f ': 2, 'ux': 9, 'x ': 7, 'xé': 3, 'cu': 6, 'ut': 35, 'f,': 1, 'va': 4, ' ê': 13, 'êt': 15, 'tr': 27, 'ch': 3, 'ha': 2, 'aq': 3, 'mp': 8, 'pa': 24, 'av': 2, 'ec': 4, 'c ': 5, ' b': 5, 'iq': 7, 'ie': 14, 'sp': 4, 'té': 28, 'oy': 9, 'ye': 10, 'fo': 8, 'nd': 12, 'rm': 8, 'su': 9, 'ip': 3, 'im': 5, 'uj': 1, 'jo': 2, 'bo': 3, 'nh': 1, 's.': 7, '.\\n': 3, '\\nE': 1, 'En': 1, 'sé': 6, 'éq': 1, \"'A\": 1, 'aî': 1, 'ît': 1, 'pi': 3, \"'E\": 1, 'Et': 1, 'rê': 3, 'êm': 5, 'ui': 13, 'iv': 5, 'n.': 5, '\\n ': 34, '  ': 17, ' \\n': 32, 'Ar': 17, 'rt': 25, 'mi': 9, 'r.': 1, '.-': 17, '--': 1, '- ': 17, ' L': 12, ' h': 4, 'ib': 12, ' é': 15, 'ga': 8, '. ': 23, 'di': 8, \"'u\": 4, 'il': 5, 'é ': 19, 'mu': 4, 'e.': 8, ' 2': 1, '2.': 2, 'as': 13, 'rv': 2, 'sc': 2, ' C': 3, 'Ce': 3, 'be': 3, 'é,': 10, 'op': 5, 'ét': 20, 'sû': 1, 'ûr': 1, ' 3': 1, '3.': 2, 'nu': 8, 'l ': 10, 'vi': 4, 'xe': 2, 'rc': 5, \"'a\": 10, \"n'\": 8, 'ém': 2, 't.': 1, ' 4': 1, '4.': 2, 'La': 8, 'fa': 3, ' :': 2, ': ': 2, 'i,': 4, ' j': 4, 'mê': 4, 'né': 10, 'lo': 17, 'i.': 4, ' 5': 1, '5.': 2, 'éf': 2, 'fe': 3, 'é.': 2, ' T': 6, 'To': 6, 'pê': 1, 'êc': 1, 'hé': 1, \"u'\": 7, 'rd': 3, 'do': 10, ' 6': 1, '6.': 2, ' v': 4, 'gé': 2, 't,': 7, ' E': 1, 'El': 1, 'ot': 2, 'tè': 1, 'èg': 1, 'ge': 4, 'ni': 13, ' y': 1, 'x,': 1, 'ad': 3, 'dm': 3, ' 7': 1, '7.': 2, ' N': 2, 'Nu': 2, 'cc': 1, 'pé': 1, 'éd': 1, 'rb': 1, 'bi': 1, 'ob': 1, 'bé': 1, 'éi': 1, 'd ': 1, ' 8': 1, '8.': 1, 'ei': 1, 'év': 3, 'lg': 1, 'gu': 2, 'él': 1, ' 9': 1, '9.': 1, 'um': 1, 'ju': 3, 'sq': 2, \"'à\": 1, \"s'\": 2, 'ug': 1, 'vè': 1, 'èr': 2, ' 1': 8, '10': 1, '0.': 1, 'nq': 1, 'vu': 1, '11': 1, '1.': 1, 'rl': 1, 'uf': 1, '12': 1, 'ag': 2, 'iè': 1, 'nf': 1, '13': 1, 'Po': 1, 'lt': 1, '14': 1, 'x-': 1, '-m': 1, 'vr': 2, 'uo': 1, '15': 1, '16': 1, '17': 1, 'nv': 1, 'vé': 1, 'xi': 1, 'mn': 1}\n"
     ]
    }
   ],
   "source": [
    "print(pair_dict)"
   ]
  },
  {
   "cell_type": "markdown",
   "metadata": {},
   "source": [
    "There are 57 different characters in the document so the P matrix will have the shape 57x57\n",
    "\n",
    "If the pair \"xy\" doesnt exist in the pair_dict then P[x][y] = 0"
   ]
  },
  {
   "cell_type": "code",
   "execution_count": 118,
   "metadata": {},
   "outputs": [
    {
     "name": "stdout",
     "output_type": "stream",
     "text": [
      "The last character is: .\n"
     ]
    }
   ],
   "source": [
    "P = np.zeros((len(character_dict),len(character_dict)))\n",
    "last_char = data[-1]\n",
    "print(f\"The last character is: {last_char}\")\n",
    "\n",
    "for key, value in pair_dict.items():\n",
    "    a = key[1]\n",
    "    b = key[0]\n",
    "    if b == last_char:\n",
    "        P[character_dict[a][\"idx\"]][character_dict[b][\"idx\"]] = value / (character_dict[b][\"count\"]-1)\n",
    "    else:    \n",
    "        P[character_dict[a][\"idx\"]][character_dict[b][\"idx\"]] = value / character_dict[b][\"count\"]\n"
   ]
  },
  {
   "cell_type": "code",
   "execution_count": 119,
   "metadata": {},
   "outputs": [
    {
     "name": "stdout",
     "output_type": "stream",
     "text": [
      "[[0.         0.         0.         ... 0.         0.         0.        ]\n",
      " [1.         0.         0.         ... 0.         0.         0.        ]\n",
      " [0.         0.33333333 0.01171875 ... 0.         0.         0.        ]\n",
      " ...\n",
      " [0.         0.         0.         ... 0.         0.         0.        ]\n",
      " [0.         0.         0.         ... 0.         0.11111111 0.        ]\n",
      " [0.         0.         0.         ... 0.         0.11111111 0.        ]]\n"
     ]
    }
   ],
   "source": [
    "print(P)"
   ]
  },
  {
   "cell_type": "code",
   "execution_count": 120,
   "metadata": {},
   "outputs": [],
   "source": [
    "P_df = pd.DataFrame(P, index=chars, columns=chars)"
   ]
  },
  {
   "cell_type": "code",
   "execution_count": 121,
   "metadata": {},
   "outputs": [
    {
     "data": {
      "text/plain": [
       "(57, 57)"
      ]
     },
     "execution_count": 121,
     "metadata": {},
     "output_type": "execute_result"
    }
   ],
   "source": [
    "P_df.shape"
   ]
  },
  {
   "cell_type": "code",
   "execution_count": 122,
   "metadata": {},
   "outputs": [
    {
     "name": "stdout",
     "output_type": "stream",
     "text": [
      "     [         P         r         é         a\n",
      "[  0.0  0.000000  0.000000  0.000000  0.000000\n",
      "P  1.0  0.000000  0.000000  0.000000  0.000000\n",
      "r  0.0  0.333333  0.011719  0.022901  0.110599\n",
      "é  0.0  0.000000  0.089844  0.000000  0.000000\n",
      "a  0.0  0.000000  0.066406  0.015267  0.000000\n"
     ]
    }
   ],
   "source": [
    "print(P_df.iloc[0:5,0:5])"
   ]
  },
  {
   "cell_type": "code",
   "execution_count": 123,
   "metadata": {},
   "outputs": [
    {
     "name": "stdout",
     "output_type": "stream",
     "text": [
      "{'count': 1, 'prob': 0.00020080321285140563, 'idx': 0}\n",
      "1\n"
     ]
    }
   ],
   "source": [
    "print(character_dict[\"[\"])\n",
    "print(pair_dict[\"[P\"])"
   ]
  },
  {
   "cell_type": "code",
   "execution_count": 130,
   "metadata": {},
   "outputs": [
    {
     "data": {
      "text/plain": [
       "0"
      ]
     },
     "execution_count": 130,
     "metadata": {},
     "output_type": "execute_result"
    }
   ],
   "source": [
    "(P_df.loc[:,:]>1).sum().sum()"
   ]
  },
  {
   "cell_type": "code",
   "execution_count": null,
   "metadata": {},
   "outputs": [],
   "source": []
  }
 ],
 "metadata": {
  "kernelspec": {
   "display_name": "Face-mask-detection-env",
   "language": "python",
   "name": "python3"
  },
  "language_info": {
   "codemirror_mode": {
    "name": "ipython",
    "version": 3
   },
   "file_extension": ".py",
   "mimetype": "text/x-python",
   "name": "python",
   "nbconvert_exporter": "python",
   "pygments_lexer": "ipython3",
   "version": "3.11.11"
  }
 },
 "nbformat": 4,
 "nbformat_minor": 2
}
